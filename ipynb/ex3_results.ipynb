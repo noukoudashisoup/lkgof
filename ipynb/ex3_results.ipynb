{
 "cells": [
  {
   "cell_type": "markdown",
   "metadata": {
    "collapsed": true
   },
   "source": [
    "A notebook to process experimental results of ex3_prob_params.py. p(reject) as problem parameter varies."
   ]
  },
  {
   "cell_type": "code",
   "execution_count": null,
   "metadata": {},
   "outputs": [],
   "source": [
    "%load_ext autoreload\n",
    "%autoreload 2\n",
    "%matplotlib inline\n",
    "#%config InlineBackend.figure_format = 'svg'\n",
    "#%config InlineBackend.figure_format = 'pdf'\n",
    "\n",
    "import numpy as np\n",
    "\n",
    "import matplotlib\n",
    "import matplotlib.pyplot as plt\n",
    "import kgof.data as data\n",
    "import lkgof.glo as glo\n",
    "import lkgof.goftest as gof\n",
    "import kgof.kernel as kernel\n",
    "import lkgof.plot as plot\n",
    "import kgof.util as util\n",
    "\n",
    "import scipy.stats as stats"
   ]
  },
  {
   "cell_type": "code",
   "execution_count": null,
   "metadata": {},
   "outputs": [],
   "source": [
    "plot.set_default_matplotlib_options()"
   ]
  },
  {
   "cell_type": "code",
   "execution_count": null,
   "metadata": {},
   "outputs": [],
   "source": [
    "np.set_printoptions(precision=5)"
   ]
  },
  {
   "cell_type": "code",
   "execution_count": null,
   "metadata": {},
   "outputs": [],
   "source": [
    "def load_plot_vs_params(fname, xlabel='Perturbation parameter $\\delta$', show_legend=True, xscale='log'):\n",
    "    func_xvalues = lambda agg_results: agg_results['params']\n",
    "    ex = 3\n",
    "    def func_title(agg_results):\n",
    "        num_problems, repeats, _, n_methods = agg_results['job_results'].shape\n",
    "        alpha = agg_results['alpha']\n",
    "        title = '%s. %d trials. $\\\\alpha$ = %.2g.'%\\\n",
    "            ( agg_results['prob_label'], repeats, alpha)\n",
    "        return title\n",
    "    #plt.figure(figsize=(10,5))\n",
    "    results = plot.plot_prob_reject(\n",
    "        ex, fname, func_xvalues, xlabel, func_title=func_title)\n",
    "    \n",
    "    if xscale is not None:\n",
    "        plt.xscale(xscale)\n",
    "    plt.title('')\n",
    "    plt.gca().legend(loc='best').set_visible(show_legend)\n",
    "    if show_legend:\n",
    "        plt.legend(bbox_to_anchor=(1.80, 1.08))\n",
    "    \n",
    "    plt.grid(False)\n",
    "        \n",
    "    return results\n",
    "\n",
    "\n",
    "def load_runtime_vs_params(fname, xlabel='Problem parameter', \n",
    "                      show_legend=True, xscale='linear', yscale='linear'):\n",
    "    func_xvalues = lambda agg_results: agg_results['params']\n",
    "    ex = 3\n",
    "    def func_title(agg_results):\n",
    "        num_problems, repeats, _, n_methods = agg_results['job_results'].shape\n",
    "        alpha = agg_results['alpha']\n",
    "        title = '%s. %d trials. $\\\\alpha$ = %.2g.'%\\\n",
    "            ( agg_results['prob_label'], repeats, alpha)\n",
    "        return title\n",
    "    \n",
    "    #plt.figure(figsize=(10,6))\n",
    "    \n",
    "    results = plot.plot_runtime(ex, fname,  \n",
    "                                func_xvalues, xlabel=xlabel, func_title=func_title)\n",
    "    \n",
    "    plt.title('')\n",
    "    plt.gca().legend(loc='best').set_visible(show_legend)\n",
    "    if show_legend:\n",
    "        plt.legend(bbox_to_anchor=(1.80, 1.05))\n",
    "    \n",
    "    plt.grid(False)\n",
    "    if xscale is not None:\n",
    "        plt.xscale(xscale)\n",
    "    if yscale is not None:\n",
    "        plt.yscale(yscale)\n",
    "        \n",
    "    return results\n",
    "\n"
   ]
  },
  {
   "cell_type": "markdown",
   "metadata": {},
   "source": [
    "## GDPM"
   ]
  },
  {
   "cell_type": "code",
   "execution_count": null,
   "metadata": {
    "scrolled": false
   },
   "outputs": [],
   "source": [
    "fname = 'ex3-isogdpm_ms_dx10_tr5_q1-me2_rs100_np50_pmi0.5_pma1_n50_mc500_a0.050.p'\n",
    "results = load_plot_vs_params(fname, show_legend=False, xscale='linear')\n",
    "# results = load_runtime_vs_params(fname, show_legend=True, yscale='log')\n",
    "plt.ylim(-0.05, 1.05)\n",
    "plt.hlines(0.05, xmin=0.5, xmax=1.5, linestyles=(1, (1,0.1,1)), label='Significance level', color='k')\n",
    "# plt.legend(bbox_to_anchor=(1.75, 1.), ncol=1)\n",
    "# plt.savefig('ppca_legend.pdf',bbox_inches='tight')\n",
    "# plt.savefig(fname.replace('.p', '_IMQ_cov.pdf', 1), bbox_inches='tight')"
   ]
  },
  {
   "cell_type": "code",
   "execution_count": null,
   "metadata": {},
   "outputs": [],
   "source": [
    "fname = 'ex3-isogdpm_ms_dx10_tr5_q1-me2_rs100_np50_pmi0.5_pma1_n100_mc500_a0.050.p'\n",
    "results = load_plot_vs_params(fname, show_legend=False, xscale='linear')\n",
    "# results = load_runtime_vs_params(fname, show_legend=True, yscale='log')\n",
    "plt.ylim(-0.05, 1.05)\n",
    "plt.hlines(0.05, xmin=0.5, xmax=1.5, linestyles=(1, (1,0.1,1)), label='Significance level', color='k')\n",
    "# plt.legend(bbox_to_anchor=(1.75, 1.), ncol=1)\n",
    "# plt.savefig('ppca_legend.pdf',bbox_inches='tight')\n",
    "# plt.savefig(fname.replace('.p', '_IMQ_cov.pdf', 1), bbox_inches='tight')"
   ]
  },
  {
   "cell_type": "code",
   "execution_count": null,
   "metadata": {},
   "outputs": [],
   "source": [
    "fname = 'ex3-isogdpm_ms_dx10_tr5_q1-me2_rs100_np50_pmi0.5_pma1_n200_mc500_a0.050.p'\n",
    "results = load_plot_vs_params(fname, show_legend=False, xscale='linear')\n",
    "# results = load_runtime_vs_params(fname, show_legend=True, yscale='log')\n",
    "plt.ylim(-0.05, 1.05)\n",
    "plt.hlines(0.05, xmin=0.5, xmax=1.5, linestyles=(1, (1,0.1,1)), label='Significance level', color='k')\n",
    "# plt.legend(bbox_to_anchor=(1.75, 1.), ncol=1)\n",
    "# plt.savefig('ppca_legend.pdf',bbox_inches='tight')\n",
    "# plt.savefig(fname.replace('.p', '_IMQ_cov.pdf', 1), bbox_inches='tight')"
   ]
  },
  {
   "cell_type": "markdown",
   "metadata": {},
   "source": [
    "##  PPCA"
   ]
  },
  {
   "cell_type": "markdown",
   "metadata": {},
   "source": [
    "### n=100"
   ]
  },
  {
   "cell_type": "code",
   "execution_count": null,
   "metadata": {},
   "outputs": [],
   "source": [
    "fname = 'ex3-ppca_ws_dx50_h0_p1-me3_rs300_np1_pmi1e-09_pma0_n100_mc500_a0.050.p'\n",
    "results = load_plot_vs_params(fname, show_legend=False, xscale='log')\n",
    "#plt.hlines(0.05, xmin=0.5, xmax=1.5, linestyles='dashed', label='Significance level')\n",
    "# plt.legend(bbox_to_anchor=(2,1.), ncol=4)\n",
    "# plt.savefig('ptb_legend.pdf',bbox_inches='tight')\n",
    "# plt.savefig(fname.replace('.p', '.pdf', 1), bbox_inches='tight')"
   ]
  },
  {
   "cell_type": "markdown",
   "metadata": {},
   "source": [
    "### n=200"
   ]
  },
  {
   "cell_type": "code",
   "execution_count": null,
   "metadata": {},
   "outputs": [],
   "source": [
    "fname = 'ex3-ppca_ws_dx50_h0_p1-me3_rs300_np1_pmi1e-09_pma0_n200_mc500_a0.050.p'\n",
    "results = load_plot_vs_params(fname, show_legend=False, xscale='log')\n",
    "#plt.hlines(0.05, xmin=0.5, xmax=1.5, linestyles='dashed', label='Significance level')\n",
    "# plt.legend(bbox_to_anchor=(2,1.), ncol=4)\n",
    "# plt.savefig('ppca_legend.pdf',bbox_inches='tight')\n",
    "# plt.savefig(fname.replace('.p', '.pdf', 1), bbox_inches='tight')"
   ]
  },
  {
   "cell_type": "code",
   "execution_count": null,
   "metadata": {},
   "outputs": [],
   "source": [
    "fname = 'ex3-ppca_ws_dx50_h0_p1-me3_rs300_np1_pmi1e-09_pma0_n300_mc500_a0.050.p'\n",
    "results = load_plot_vs_params(fname, show_legend=False, xscale='log')\n",
    "#plt.hlines(0.05, xmin=0.5, xmax=1.5, linestyles='dashed', label='Significance level')\n",
    "# plt.legend(bbox_to_anchor=(2,1.), ncol=4)\n",
    "# plt.savefig('ppca_legend.pdf',bbox_inches='tight')\n",
    "# plt.savefig(fname.replace('.p', '.pdf', 1), bbox_inches='tight')"
   ]
  },
  {
   "cell_type": "markdown",
   "metadata": {},
   "source": [
    "### LDA"
   ]
  },
  {
   "cell_type": "code",
   "execution_count": null,
   "metadata": {},
   "outputs": [],
   "source": [
    "fname = 'ex3-lda_as_dx50_h0_p05-me3_rs300_np1_pmi1e-10_pma0_n100_mc1000_a0.050.p'\n",
    "results = load_plot_vs_params(fname, show_legend=False, xscale='log')\n",
    "#plt.hlines(0.05, xmin=0.5, xmax=1.5, linestyles='dashed', label='Significance level')\n",
    "# plt.legend(bbox_to_anchor=(2,1.), ncol=4)\n",
    "# plt.savefig('ppca_legend.pdf',bbox_inches='tight')\n",
    "# plt.savefig(fname.replace('.p', '.pdf', 1), bbox_inches='tight')"
   ]
  },
  {
   "cell_type": "code",
   "execution_count": null,
   "metadata": {},
   "outputs": [],
   "source": [
    "fname = 'ex3-lda_as_dx50_h0_p05-me3_rs300_np1_pmi1e-10_pma0_n200_mc1000_a0.050.p'\n",
    "results = load_plot_vs_params(fname, show_legend=True, xscale='log')\n",
    "#plt.hlines(0.05, xmin=0.5, xmax=1.5, linestyles='dashed', label='Significance level')\n",
    "# plt.legend(bbox_to_anchor=(2,1.), ncol=4)\n",
    "# plt.savefig('ppca_legend.pdf',bbox_inches='tight')\n",
    "# plt.savefig(fname.replace('.p', '.pdf', 1), bbox_inches='tight')\n",
    "# results = load_plot_vs_params(fname, show_legend=False, xscale='log')"
   ]
  },
  {
   "cell_type": "code",
   "execution_count": null,
   "metadata": {},
   "outputs": [],
   "source": [
    "fname = 'ex3-lda_as_dx50_h0_p05-me3_rs300_np1_pmi1e-10_pma0_n300_mc1000_a0.050.p'\n",
    "results = load_plot_vs_params(fname, show_legend=True, xscale='log')\n",
    "#plt.hlines(0.05, xmin=0.5, xmax=1.5, linestyles='dashed', label='Significance level')\n",
    "# plt.legend(bbox_to_anchor=(2,1.), ncol=4)\n",
    "# plt.savefig('ppca_legend.pdf',bbox_inches='tight')\n",
    "# plt.savefig(fname.replace('.p', '.pdf', 1), bbox_inches='tight')\n",
    "# results = load_plot_vs_params(fname, show_legend=False, xscale='log')"
   ]
  },
  {
   "cell_type": "code",
   "execution_count": null,
   "metadata": {},
   "outputs": [],
   "source": [
    "fname = 'ex3-lda_mix_dx50_h1_q1e-2temp1alpha1e-2-me2_rs300_np1_pmi0.05_pma0_n300_mc10000_a0.050.p'\n",
    "results = load_plot_vs_params(fname, show_legend=False, xscale='linear')\n",
    "# plt.savefig(fname.replace('.p', '.pdf', 1), bbox_inches='tight')"
   ]
  }
 ],
 "metadata": {
  "anaconda-cloud": {},
  "kernelspec": {
   "display_name": "Python 3",
   "language": "python",
   "name": "python3"
  },
  "language_info": {
   "codemirror_mode": {
    "name": "ipython",
    "version": 3
   },
   "file_extension": ".py",
   "mimetype": "text/x-python",
   "name": "python",
   "nbconvert_exporter": "python",
   "pygments_lexer": "ipython3",
   "version": "3.6.13"
  }
 },
 "nbformat": 4,
 "nbformat_minor": 1
}
