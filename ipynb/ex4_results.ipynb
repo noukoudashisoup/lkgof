{
 "cells": [
  {
   "cell_type": "markdown",
   "metadata": {
    "collapsed": true
   },
   "source": [
    "A notebook to process experimental results of ex4_vary_mcsizes.py. p(reject) as burn-in sample size increases."
   ]
  },
  {
   "cell_type": "code",
   "execution_count": null,
   "metadata": {},
   "outputs": [],
   "source": [
    "%load_ext autoreload\n",
    "%autoreload 2\n",
    "%matplotlib inline\n",
    "#%config InlineBackend.figure_format = 'svg'\n",
    "#%config InlineBackend.figure_format = 'pdf'\n",
    "\n",
    "import numpy as np\n",
    "\n",
    "import matplotlib\n",
    "import matplotlib.pyplot as plt\n",
    "import kgof.data as data\n",
    "import lkgof.glo as glo\n",
    "import lkgof.goftest as gof\n",
    "import kgof.kernel as kernel\n",
    "import lkgof.plot as plot\n",
    "import kgof.util as util\n",
    "\n",
    "import scipy.stats as stats"
   ]
  },
  {
   "cell_type": "code",
   "execution_count": null,
   "metadata": {},
   "outputs": [],
   "source": [
    "plot.set_default_matplotlib_options()"
   ]
  },
  {
   "cell_type": "code",
   "execution_count": null,
   "metadata": {},
   "outputs": [],
   "source": [
    "np.set_printoptions(precision=5)"
   ]
  },
  {
   "cell_type": "code",
   "execution_count": null,
   "metadata": {},
   "outputs": [],
   "source": [
    "def load_plot_vs_params(fname, xlabel='Burn-in size $t$', show_legend=True, xscale='log'):\n",
    "    func_xvalues = lambda agg_results: agg_results['bs']\n",
    "    ex = 4\n",
    "    def func_title(agg_results):\n",
    "        repeats, _, n_methods = agg_results['job_results'].shape\n",
    "        alpha = agg_results['alpha']\n",
    "        title = '%s. %d trials. $\\\\alpha$ = %.2g.'%\\\n",
    "            ( agg_results['prob_label'], repeats, alpha)\n",
    "        return title\n",
    "    #plt.figure(figsize=(10,5))\n",
    "    results = plot.plot_prob_reject(\n",
    "        ex, fname, func_xvalues, xlabel, func_title=func_title)\n",
    "    \n",
    "    if xscale is not None:\n",
    "        plt.xscale(xscale)\n",
    "    plt.title('')\n",
    "    plt.gca().legend(loc='best').set_visible(show_legend)\n",
    "    if show_legend:\n",
    "        plt.legend(bbox_to_anchor=(1.80, 1.08))\n",
    "    \n",
    "    plt.grid(False)\n",
    "        \n",
    "    return results\n",
    "\n",
    "\n",
    "def load_runtime_vs_params(fname, xlabel='Problem parameter', \n",
    "                      show_legend=True, xscale='linear', yscale='linear'):\n",
    "    func_xvalues = lambda agg_results: agg_results['bs']\n",
    "    ex = 4\n",
    "    def func_title(agg_results):\n",
    "        repeats, _, n_methods = agg_results['job_results'].shape\n",
    "        alpha = agg_results['alpha']\n",
    "        title = '%s. %d trials. $\\\\alpha$ = %.2g.'%\\\n",
    "            ( agg_results['prob_label'], repeats, alpha)\n",
    "        return title\n",
    "    \n",
    "    #plt.figure(figsize=(10,6))\n",
    "    \n",
    "    results = plot.plot_runtime(ex, fname,  \n",
    "                                func_xvalues, xlabel=xlabel, func_title=func_title)\n",
    "    \n",
    "    plt.title('')\n",
    "    plt.gca().legend(loc='best').set_visible(show_legend)\n",
    "    if show_legend:\n",
    "        plt.legend(bbox_to_anchor=(1.80, 1.05))\n",
    "    \n",
    "    plt.grid(False)\n",
    "    if xscale is not None:\n",
    "        plt.xscale(xscale)\n",
    "    if yscale is not None:\n",
    "        plt.yscale(yscale)\n",
    "        \n",
    "    return results\n",
    "\n"
   ]
  },
  {
   "cell_type": "markdown",
   "metadata": {},
   "source": [
    "## PPCA"
   ]
  },
  {
   "cell_type": "code",
   "execution_count": null,
   "metadata": {
    "scrolled": false
   },
   "outputs": [],
   "source": [
    "fname = 'ex4-ppca_h1_dx100_dz10_p2_q1-me4_rs300_bmi50_bma600_n300_a0.050.p'\n",
    "results = load_plot_vs_params(fname, show_legend=False, xscale='linear')\n",
    "# plt.legend(bbox_to_anchor=(1.75, 1.), ncol=1)\n",
    "# plt.savefig( 'ppca_legend.pdf',bbox_inches='tight')\n",
    "# plt.savefig(fname.replace('.p', '_HMC.pdf', 1), bbox_inches='tight')"
   ]
  },
  {
   "cell_type": "markdown",
   "metadata": {},
   "source": [
    "### LDA"
   ]
  },
  {
   "cell_type": "code",
   "execution_count": null,
   "metadata": {},
   "outputs": [],
   "source": [
    "fname = 'ex4-lda_h0_dx50_v1000_t3_p05q1temp1-me4_rs300_bmi500_bma4000_n300_a0.050.p'\n",
    "results = load_plot_vs_params(fname, show_legend=False, xscale='linear')\n",
    "#plt.hlines(0.05, xmin=0.5, xmax=1.5, linestyles='dashed', label='Significance level')\n",
    "# plt.legend(bbox_to_anchor=(2,1.), ncol=4)\n",
    "# plt.savefig('ppca_legend.pdf',bbox_inches='tight')\n",
    "# plt.savefig(fname.replace('.p', '.pdf', 1), bbox_inches='tight')"
   ]
  }
 ],
 "metadata": {
  "anaconda-cloud": {},
  "kernelspec": {
   "display_name": "Python 3",
   "language": "python",
   "name": "python3"
  },
  "language_info": {
   "codemirror_mode": {
    "name": "ipython",
    "version": 3
   },
   "file_extension": ".py",
   "mimetype": "text/x-python",
   "name": "python",
   "nbconvert_exporter": "python",
   "pygments_lexer": "ipython3",
   "version": "3.6.13"
  }
 },
 "nbformat": 4,
 "nbformat_minor": 1
}
